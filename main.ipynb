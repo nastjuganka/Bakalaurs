{
 "cells": [
  {
   "cell_type": "code",
   "execution_count": null,
   "metadata": {},
   "outputs": [],
   "source": [
    "!pip install matplotlib numpy"
   ]
  },
  {
   "cell_type": "markdown",
   "metadata": {},
   "source": [
    "### Imports"
   ]
  },
  {
   "cell_type": "code",
   "execution_count": null,
   "metadata": {},
   "outputs": [],
   "source": [
    "import matplotlib\n",
    "import matplotlib.pyplot as plt\n",
    "import numpy as np\n",
    "\n",
    "print(\"matplotlib version:\", matplotlib.__version__)\n",
    "print(\"numpy version:\", np.__version__)\n"
   ]
  },
  {
   "cell_type": "code",
   "execution_count": 3,
   "metadata": {},
   "outputs": [],
   "source": [
    "import myfunc"
   ]
  },
  {
   "cell_type": "code",
   "execution_count": null,
   "metadata": {},
   "outputs": [],
   "source": [
    "\n",
    "# Parameters for Wind Turbine Capacity calculation\n",
    "density = 1.293  # Air density in kg/m^3\n",
    "area = 23235  # Rotor area in m^2 (from Vestas V172)\n",
    "wind_speed = 6  # Wind speed in m/s\n",
    "cp = 0.4  # Turbine performance coefficient\n",
    "efficiency = 0.85  # Wind turbine efficiency factor\n",
    "\n",
    "# Parameters for AEP calculation\n",
    "capacity_factor = 0.4  # Capacity factor\n",
    "\n",
    "# Parameters for TAC and LCOE calculation\n",
    "CAPEX = 1600000  # EUR/MW\n",
    "OPEX = 110000  # EUR/MW/year\n",
    "r = 0.1  # Discount rate\n",
    "n = 20  # Project lifetime in years\n",
    "\n",
    "# Step 1: Calculate Wind Turbine Capacity (Instantaneous, MW)\n",
    "instantaneous_capacity = myfunc.calculate_wind_turbine_capacity(density, area, wind_speed, cp, efficiency)\n",
    "\n",
    "# Step 2: Calculate AEP (Annual Energy Production, MWh/year)\n",
    "AEP = myfunc.calculate_AEP(instantaneous_capacity, capacity_factor)\n",
    "\n",
    "# Step 3: Calculate TAC (EUR/MWh)\n",
    "TAC = myfunc.calculate_TAC(CAPEX, OPEX, r, n, instantaneous_capacity)\n",
    "\n",
    "# Step 4: Calculate LCOE (EUR/MWh)\n",
    "LCOE = myfunc.calculate_LCOE(TAC, AEP)\n",
    "\n",
    "# Print Results\n",
    "print(f\"Wind Turbine Capacity: {instantaneous_capacity:.2f} MW\")\n",
    "print(f\"Annual Energy Production (AEP): {AEP:.2f} MWh/year\")\n",
    "print(f\"Total Annual Cost (TAC): {TAC:.2f} EUR/MWh\")\n",
    "print(f\"Levelized Cost of Energy (LCOE): {LCOE:.2f} EUR/MWh\")\n"
   ]
  },
  {
   "cell_type": "code",
   "execution_count": null,
   "metadata": {},
   "outputs": [],
   "source": [
    "newVar = 100\n",
    "#  commentaaaarij\n",
    "\n",
    "LCOH = myfunc.calculate_abc(LCOE, newVar)\n",
    "LCOH\n",
    "\n"
   ]
  }
 ],
 "metadata": {
  "kernelspec": {
   "display_name": "Python 3",
   "language": "python",
   "name": "python3"
  },
  "language_info": {
   "codemirror_mode": {
    "name": "ipython",
    "version": 3
   },
   "file_extension": ".py",
   "mimetype": "text/x-python",
   "name": "python",
   "nbconvert_exporter": "python",
   "pygments_lexer": "ipython3",
   "version": "3.13.1"
  }
 },
 "nbformat": 4,
 "nbformat_minor": 2
}
